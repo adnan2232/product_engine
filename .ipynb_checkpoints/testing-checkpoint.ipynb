{
 "cells": [
  {
   "cell_type": "code",
   "execution_count": 136,
   "id": "2a870fb3",
   "metadata": {},
   "outputs": [],
   "source": [
    "import pandas as pd\n",
    "import numpy as np"
   ]
  },
  {
   "cell_type": "code",
   "execution_count": 137,
   "id": "f2a9190d",
   "metadata": {},
   "outputs": [],
   "source": [
    "df = pd.read_csv(\"sales_data.csv\",index_col=0)"
   ]
  },
  {
   "cell_type": "code",
   "execution_count": 138,
   "id": "e93864e3",
   "metadata": {},
   "outputs": [],
   "source": [
    "df[\"brand\"] = df[\"brand\"].apply(lambda x: x[:-1])"
   ]
  },
  {
   "cell_type": "code",
   "execution_count": 139,
   "id": "ad703e72",
   "metadata": {},
   "outputs": [
    {
     "data": {
      "text/html": [
       "<div>\n",
       "<style scoped>\n",
       "    .dataframe tbody tr th:only-of-type {\n",
       "        vertical-align: middle;\n",
       "    }\n",
       "\n",
       "    .dataframe tbody tr th {\n",
       "        vertical-align: top;\n",
       "    }\n",
       "\n",
       "    .dataframe thead th {\n",
       "        text-align: right;\n",
       "    }\n",
       "</style>\n",
       "<table border=\"1\" class=\"dataframe\">\n",
       "  <thead>\n",
       "    <tr style=\"text-align: right;\">\n",
       "      <th></th>\n",
       "      <th>sku</th>\n",
       "      <th>product_line</th>\n",
       "      <th>brand</th>\n",
       "      <th>sales</th>\n",
       "      <th>price</th>\n",
       "    </tr>\n",
       "    <tr>\n",
       "      <th>SKU_ID</th>\n",
       "      <th></th>\n",
       "      <th></th>\n",
       "      <th></th>\n",
       "      <th></th>\n",
       "      <th></th>\n",
       "    </tr>\n",
       "  </thead>\n",
       "  <tbody>\n",
       "    <tr>\n",
       "      <th>1</th>\n",
       "      <td>Samsung Stereo Headset Wird EO-EG920BWEG</td>\n",
       "      <td>Phones Mobile Accessories</td>\n",
       "      <td>SAMSUNG</td>\n",
       "      <td>1</td>\n",
       "      <td>1359.0</td>\n",
       "    </tr>\n",
       "    <tr>\n",
       "      <th>2</th>\n",
       "      <td>HITACHI REF SBS RM-700AGPND4X-(DIA)</td>\n",
       "      <td>Refrigerators</td>\n",
       "      <td>HITACHI</td>\n",
       "      <td>1</td>\n",
       "      <td>184408.0</td>\n",
       "    </tr>\n",
       "    <tr>\n",
       "      <th>3</th>\n",
       "      <td>SIEMENS DISHWASHER SN26L801IN</td>\n",
       "      <td>Dishwashers</td>\n",
       "      <td>SIEMENS</td>\n",
       "      <td>1</td>\n",
       "      <td>34425.0</td>\n",
       "    </tr>\n",
       "    <tr>\n",
       "      <th>4</th>\n",
       "      <td>Super General S/AC 1.5T SGSI185-3BE 3S</td>\n",
       "      <td>Air Conditioners</td>\n",
       "      <td>Super General</td>\n",
       "      <td>1</td>\n",
       "      <td>29750.0</td>\n",
       "    </tr>\n",
       "    <tr>\n",
       "      <th>5</th>\n",
       "      <td>Apple 12W USB Power Adapter</td>\n",
       "      <td>Tablets &amp; Detachables</td>\n",
       "      <td>APPLE</td>\n",
       "      <td>1</td>\n",
       "      <td>1700.0</td>\n",
       "    </tr>\n",
       "  </tbody>\n",
       "</table>\n",
       "</div>"
      ],
      "text/plain": [
       "                                             sku               product_line  \\\n",
       "SKU_ID                                                                        \n",
       "1       Samsung Stereo Headset Wird EO-EG920BWEG  Phones Mobile Accessories   \n",
       "2            HITACHI REF SBS RM-700AGPND4X-(DIA)              Refrigerators   \n",
       "3                  SIEMENS DISHWASHER SN26L801IN                Dishwashers   \n",
       "4         Super General S/AC 1.5T SGSI185-3BE 3S           Air Conditioners   \n",
       "5                    Apple 12W USB Power Adapter      Tablets & Detachables   \n",
       "\n",
       "                brand  sales     price  \n",
       "SKU_ID                                  \n",
       "1             SAMSUNG      1    1359.0  \n",
       "2             HITACHI      1  184408.0  \n",
       "3             SIEMENS      1   34425.0  \n",
       "4       Super General      1   29750.0  \n",
       "5               APPLE      1    1700.0  "
      ]
     },
     "execution_count": 139,
     "metadata": {},
     "output_type": "execute_result"
    }
   ],
   "source": [
    "df.head()"
   ]
  },
  {
   "cell_type": "code",
   "execution_count": 140,
   "id": "27f9a116",
   "metadata": {},
   "outputs": [
    {
     "name": "stdout",
     "output_type": "stream",
     "text": [
      "<class 'pandas.core.frame.DataFrame'>\n",
      "Int64Index: 2015 entries, 1 to 2015\n",
      "Data columns (total 5 columns):\n",
      " #   Column        Non-Null Count  Dtype  \n",
      "---  ------        --------------  -----  \n",
      " 0   sku           2015 non-null   object \n",
      " 1   product_line  2015 non-null   object \n",
      " 2   brand         2015 non-null   object \n",
      " 3   sales         2015 non-null   int64  \n",
      " 4   price         2015 non-null   float64\n",
      "dtypes: float64(1), int64(1), object(3)\n",
      "memory usage: 94.5+ KB\n"
     ]
    },
    {
     "data": {
      "text/plain": [
       "(None, (2015, 5))"
      ]
     },
     "execution_count": 140,
     "metadata": {},
     "output_type": "execute_result"
    }
   ],
   "source": [
    "df.info(), df.shape"
   ]
  },
  {
   "cell_type": "code",
   "execution_count": 141,
   "id": "0cc8152a",
   "metadata": {},
   "outputs": [],
   "source": [
    "df = df.astype({\"sku\":\"string\",\"product_line\":\"string\",\"brand\":\"string\"})"
   ]
  },
  {
   "cell_type": "code",
   "execution_count": 142,
   "id": "ac738429",
   "metadata": {},
   "outputs": [
    {
     "name": "stdout",
     "output_type": "stream",
     "text": [
      "<class 'pandas.core.frame.DataFrame'>\n",
      "Int64Index: 2015 entries, 1 to 2015\n",
      "Data columns (total 5 columns):\n",
      " #   Column        Non-Null Count  Dtype  \n",
      "---  ------        --------------  -----  \n",
      " 0   sku           2015 non-null   string \n",
      " 1   product_line  2015 non-null   string \n",
      " 2   brand         2015 non-null   string \n",
      " 3   sales         2015 non-null   int64  \n",
      " 4   price         2015 non-null   float64\n",
      "dtypes: float64(1), int64(1), string(3)\n",
      "memory usage: 94.5 KB\n"
     ]
    }
   ],
   "source": [
    "df.info()"
   ]
  },
  {
   "cell_type": "code",
   "execution_count": 143,
   "id": "8bc074c6",
   "metadata": {},
   "outputs": [
    {
     "data": {
      "text/plain": [
       "<StringArray>\n",
       "[    'Phones Mobile Accessories',                 'Refrigerators',\n",
       "                   'Dishwashers',              'Air Conditioners',\n",
       "         'Tablets & Detachables',               'Gaming Software',\n",
       "              'Mobile Computing',            'Kitchen Appliances',\n",
       "                   'MP3 Players',                 'Input Devices',\n",
       "          'Earphones/Headphones',               'Home Appliances',\n",
       "              'Washing Machines',               'Water Purifiers',\n",
       "                    'Microwaves',            'Travel Accessories',\n",
       "                  'Phones Fixed',       'Smart Phones (OS Based)',\n",
       "                 'Computer Bags',                  'Shop in Shop',\n",
       "        'Health & Personal Care',                  'Home Theatre',\n",
       "                 'Phones Mobile',         'Lifestyle & Wearables',\n",
       "               'Digital Cameras',                      'Security',\n",
       "                        'TV LCD',                   'Peripherals',\n",
       "                 'Storage Media',   'Printers & Office Solutions',\n",
       "               'Gaming Hardware',           'Imaging Accessories',\n",
       "                      'Speakers',                'PC Accessories',\n",
       "       'Phones Mobile Providers',                      'Cookware',\n",
       "                          'Fans',     'Entertainment Accessories',\n",
       "                      'Desktops',               'DVD/VCD/Content',\n",
       "                          'Toys',                    'Networking',\n",
       " 'Dummy Laptop / Netbook / Tabs',  'Cooling & Heating Appliances',\n",
       "               'Ovens & Cookers',                         'Power',\n",
       "                  'Air Purifier',  'Connected Homes & Housewares',\n",
       "                 'Audio Systems',                      'Software',\n",
       "                    'Camcorders',                 'Other Charges',\n",
       "       'Phone Brand Attachments',                       'ECharge',\n",
       "                        'Dryers',                       'Simcard',\n",
       "               'MP3 Accessories']\n",
       "Length: 57, dtype: string"
      ]
     },
     "execution_count": 143,
     "metadata": {},
     "output_type": "execute_result"
    }
   ],
   "source": [
    "df[\"product_line\"].unique()"
   ]
  },
  {
   "cell_type": "code",
   "execution_count": 144,
   "id": "3f683c49",
   "metadata": {},
   "outputs": [],
   "source": [
    "import re\n",
    "\n",
    "replacement = {\n",
    "    re.compile(r\"&|/\"):\" \",\n",
    "    re.compile(r\"( )+\"):\" \",\n",
    "    re.compile(r\"\\(|\\)\"):\"\",\n",
    "    re.compile(r\"(^ )|( $)\"):\"\"\n",
    "}\n",
    "\n",
    "df[\"product_line_clean\"] = df[\"product_line\"].str.lower().replace(replacement,regex=True)"
   ]
  },
  {
   "cell_type": "code",
   "execution_count": 145,
   "id": "67c5586a",
   "metadata": {},
   "outputs": [
    {
     "data": {
      "text/plain": [
       "<StringArray>\n",
       "[ 'phones mobile accessories',              'refrigerators',\n",
       "                'dishwashers',           'air conditioners',\n",
       "        'tablets detachables',            'gaming software',\n",
       "           'mobile computing',         'kitchen appliances',\n",
       "                'mp3 players',              'input devices',\n",
       "       'earphones headphones',            'home appliances',\n",
       "           'washing machines',            'water purifiers',\n",
       "                 'microwaves',         'travel accessories',\n",
       "               'phones fixed',      'smart phones os based',\n",
       "              'computer bags',               'shop in shop',\n",
       "       'health personal care',               'home theatre',\n",
       "              'phones mobile',        'lifestyle wearables',\n",
       "            'digital cameras',                   'security',\n",
       "                     'tv lcd',                'peripherals',\n",
       "              'storage media',  'printers office solutions',\n",
       "            'gaming hardware',        'imaging accessories',\n",
       "                   'speakers',             'pc accessories',\n",
       "    'phones mobile providers',                   'cookware',\n",
       "                       'fans',  'entertainment accessories',\n",
       "                   'desktops',            'dvd vcd content',\n",
       "                       'toys',                 'networking',\n",
       "  'dummy laptop netbook tabs', 'cooling heating appliances',\n",
       "              'ovens cookers',                      'power',\n",
       "               'air purifier', 'connected homes housewares',\n",
       "              'audio systems',                   'software',\n",
       "                 'camcorders',              'other charges',\n",
       "    'phone brand attachments',                    'echarge',\n",
       "                     'dryers',                    'simcard',\n",
       "            'mp3 accessories']\n",
       "Length: 57, dtype: string"
      ]
     },
     "execution_count": 145,
     "metadata": {},
     "output_type": "execute_result"
    }
   ],
   "source": [
    "df[\"product_line_clean\"].unique()"
   ]
  },
  {
   "cell_type": "code",
   "execution_count": 272,
   "id": "18fe2d71",
   "metadata": {},
   "outputs": [
    {
     "name": "stdout",
     "output_type": "stream",
     "text": [
      "['Super General', 'Ultimate Ears', 'TRAVEL BLUE', 'Cyber Power', 'ALTEC LANSING', 'EDU SCIENCE', 'BOOK MY SHOW', 'NO SPEC', 'GO PRO', 'FUSE CHICKEN', 'AQUA SURE']\n"
     ]
    }
   ],
   "source": [
    "a = df[\"brand\"].unique()\n",
    "arr = []\n",
    "\n",
    "for x in a:\n",
    "    if len(x.strip().split(\" \")) > 1:\n",
    "        arr.append(x)\n",
    "print(arr)"
   ]
  },
  {
   "cell_type": "code",
   "execution_count": 147,
   "id": "3cde8073",
   "metadata": {},
   "outputs": [],
   "source": [
    "df[\"brand_lower\"] = df[\"brand\"].str.lower()"
   ]
  },
  {
   "cell_type": "code",
   "execution_count": 148,
   "id": "386a43cb",
   "metadata": {},
   "outputs": [],
   "source": [
    "df.to_parquet(\"./sales_data.parquet\")"
   ]
  },
  {
   "cell_type": "code",
   "execution_count": 214,
   "id": "03aad6a4",
   "metadata": {},
   "outputs": [],
   "source": [
    "def text_to_set(txt,replace=set()):\n",
    "    if not replace:\n",
    "        replace = replacement\n",
    "    for key,val in replace.items():\n",
    "        txt = re.sub(key,val,txt)\n",
    "        \n",
    "    return set(txt.lower().split(\" \"))"
   ]
  },
  {
   "cell_type": "code",
   "execution_count": 172,
   "id": "934116e0",
   "metadata": {},
   "outputs": [],
   "source": [
    "replacement = {\n",
    "        re.compile(r\"&|/|\\\\\"):\" \",\n",
    "        re.compile(r\"( )+\"):\" \",\n",
    "        re.compile(r\"\\(|\\)|(^ )|( $)\"):\"\",\n",
    "    }"
   ]
  },
  {
   "cell_type": "code",
   "execution_count": 173,
   "id": "606b16e1",
   "metadata": {},
   "outputs": [
    {
     "data": {
      "text/plain": [
       "{'adnan', 'shaikh'}"
      ]
     },
     "execution_count": 173,
     "metadata": {},
     "output_type": "execute_result"
    }
   ],
   "source": [
    "text_to_set(r\" Adnan Shaikh \\\\/  \",replacement)"
   ]
  },
  {
   "cell_type": "code",
   "execution_count": 233,
   "id": "66180625",
   "metadata": {},
   "outputs": [],
   "source": [
    "def exact_match(df,cat,bow):\n",
    "    ind = df[cat].isin(bow)\n",
    "    \n",
    "    if ind.any():\n",
    "        return df[ind]\n",
    "    \n",
    "    return df"
   ]
  },
  {
   "cell_type": "code",
   "execution_count": 251,
   "id": "34b2bff9",
   "metadata": {},
   "outputs": [
    {
     "data": {
      "text/html": [
       "<div>\n",
       "<style scoped>\n",
       "    .dataframe tbody tr th:only-of-type {\n",
       "        vertical-align: middle;\n",
       "    }\n",
       "\n",
       "    .dataframe tbody tr th {\n",
       "        vertical-align: top;\n",
       "    }\n",
       "\n",
       "    .dataframe thead th {\n",
       "        text-align: right;\n",
       "    }\n",
       "</style>\n",
       "<table border=\"1\" class=\"dataframe\">\n",
       "  <thead>\n",
       "    <tr style=\"text-align: right;\">\n",
       "      <th></th>\n",
       "      <th>sku</th>\n",
       "      <th>product_line</th>\n",
       "      <th>brand</th>\n",
       "      <th>sales</th>\n",
       "      <th>price</th>\n",
       "      <th>product_line_clean</th>\n",
       "      <th>brand_lower</th>\n",
       "    </tr>\n",
       "    <tr>\n",
       "      <th>SKU_ID</th>\n",
       "      <th></th>\n",
       "      <th></th>\n",
       "      <th></th>\n",
       "      <th></th>\n",
       "      <th></th>\n",
       "      <th></th>\n",
       "      <th></th>\n",
       "    </tr>\n",
       "  </thead>\n",
       "  <tbody>\n",
       "    <tr>\n",
       "      <th>1</th>\n",
       "      <td>Samsung Stereo Headset Wird EO-EG920BWEG</td>\n",
       "      <td>Phones Mobile Accessories</td>\n",
       "      <td>SAMSUNG</td>\n",
       "      <td>1</td>\n",
       "      <td>1359.0</td>\n",
       "      <td>phones mobile accessories</td>\n",
       "      <td>samsung</td>\n",
       "    </tr>\n",
       "    <tr>\n",
       "      <th>2</th>\n",
       "      <td>HITACHI REF SBS RM-700AGPND4X-(DIA)</td>\n",
       "      <td>Refrigerators</td>\n",
       "      <td>HITACHI</td>\n",
       "      <td>1</td>\n",
       "      <td>184408.0</td>\n",
       "      <td>refrigerators</td>\n",
       "      <td>hitachi</td>\n",
       "    </tr>\n",
       "    <tr>\n",
       "      <th>3</th>\n",
       "      <td>SIEMENS DISHWASHER SN26L801IN</td>\n",
       "      <td>Dishwashers</td>\n",
       "      <td>SIEMENS</td>\n",
       "      <td>1</td>\n",
       "      <td>34425.0</td>\n",
       "      <td>dishwashers</td>\n",
       "      <td>siemens</td>\n",
       "    </tr>\n",
       "    <tr>\n",
       "      <th>4</th>\n",
       "      <td>Super General S/AC 1.5T SGSI185-3BE 3S</td>\n",
       "      <td>Air Conditioners</td>\n",
       "      <td>Super General</td>\n",
       "      <td>1</td>\n",
       "      <td>29750.0</td>\n",
       "      <td>air conditioners</td>\n",
       "      <td>super general</td>\n",
       "    </tr>\n",
       "    <tr>\n",
       "      <th>5</th>\n",
       "      <td>Apple 12W USB Power Adapter</td>\n",
       "      <td>Tablets &amp; Detachables</td>\n",
       "      <td>APPLE</td>\n",
       "      <td>1</td>\n",
       "      <td>1700.0</td>\n",
       "      <td>tablets detachables</td>\n",
       "      <td>apple</td>\n",
       "    </tr>\n",
       "  </tbody>\n",
       "</table>\n",
       "</div>"
      ],
      "text/plain": [
       "                                             sku               product_line  \\\n",
       "SKU_ID                                                                        \n",
       "1       Samsung Stereo Headset Wird EO-EG920BWEG  Phones Mobile Accessories   \n",
       "2            HITACHI REF SBS RM-700AGPND4X-(DIA)              Refrigerators   \n",
       "3                  SIEMENS DISHWASHER SN26L801IN                Dishwashers   \n",
       "4         Super General S/AC 1.5T SGSI185-3BE 3S           Air Conditioners   \n",
       "5                    Apple 12W USB Power Adapter      Tablets & Detachables   \n",
       "\n",
       "                brand  sales     price         product_line_clean  \\\n",
       "SKU_ID                                                              \n",
       "1             SAMSUNG      1    1359.0  phones mobile accessories   \n",
       "2             HITACHI      1  184408.0              refrigerators   \n",
       "3             SIEMENS      1   34425.0                dishwashers   \n",
       "4       Super General      1   29750.0           air conditioners   \n",
       "5               APPLE      1    1700.0        tablets detachables   \n",
       "\n",
       "          brand_lower  \n",
       "SKU_ID                 \n",
       "1             samsung  \n",
       "2             hitachi  \n",
       "3             siemens  \n",
       "4       super general  \n",
       "5               apple  "
      ]
     },
     "execution_count": 251,
     "metadata": {},
     "output_type": "execute_result"
    }
   ],
   "source": [
    "txt_set = text_to_set(\" ref\",replacement)\n",
    "\n",
    "temp =exact_match(df,\"brand_lower\",txt_set)\n",
    "temp.head()"
   ]
  },
  {
   "cell_type": "code",
   "execution_count": 232,
   "id": "335ebc04",
   "metadata": {},
   "outputs": [],
   "source": [
    "def partial_match(df,cat,txt_set):\n",
    "    \n",
    "    def match_each(set1,set2):\n",
    "        for word1 in set1:\n",
    "            for word2 in set2:\n",
    "                if word2.startswith(word1):\n",
    "                    return True\n",
    "        return False\n",
    "        \n",
    "    ind = df[cat].apply(lambda x: match_each(txt_set,text_to_set(x,replacement)))\n",
    "    if ind.any():\n",
    "        return df[ind]\n",
    "    return df"
   ]
  },
  {
   "cell_type": "code",
   "execution_count": 238,
   "id": "139bb5fd",
   "metadata": {},
   "outputs": [
    {
     "data": {
      "text/html": [
       "<div>\n",
       "<style scoped>\n",
       "    .dataframe tbody tr th:only-of-type {\n",
       "        vertical-align: middle;\n",
       "    }\n",
       "\n",
       "    .dataframe tbody tr th {\n",
       "        vertical-align: top;\n",
       "    }\n",
       "\n",
       "    .dataframe thead th {\n",
       "        text-align: right;\n",
       "    }\n",
       "</style>\n",
       "<table border=\"1\" class=\"dataframe\">\n",
       "  <thead>\n",
       "    <tr style=\"text-align: right;\">\n",
       "      <th></th>\n",
       "      <th>sku</th>\n",
       "      <th>product_line</th>\n",
       "      <th>brand</th>\n",
       "      <th>sales</th>\n",
       "      <th>price</th>\n",
       "      <th>product_line_clean</th>\n",
       "      <th>brand_lower</th>\n",
       "    </tr>\n",
       "    <tr>\n",
       "      <th>SKU_ID</th>\n",
       "      <th></th>\n",
       "      <th></th>\n",
       "      <th></th>\n",
       "      <th></th>\n",
       "      <th></th>\n",
       "      <th></th>\n",
       "      <th></th>\n",
       "    </tr>\n",
       "  </thead>\n",
       "  <tbody>\n",
       "    <tr>\n",
       "      <th>2</th>\n",
       "      <td>HITACHI REF SBS RM-700AGPND4X-(DIA)</td>\n",
       "      <td>Refrigerators</td>\n",
       "      <td>HITACHI</td>\n",
       "      <td>1</td>\n",
       "      <td>184408.00000</td>\n",
       "      <td>refrigerators</td>\n",
       "      <td>hitachi</td>\n",
       "    </tr>\n",
       "    <tr>\n",
       "      <th>17</th>\n",
       "      <td>Samsung Ref SBS 591L RS554NRUA</td>\n",
       "      <td>Refrigerators</td>\n",
       "      <td>SAMSUNG</td>\n",
       "      <td>1</td>\n",
       "      <td>79815.00000</td>\n",
       "      <td>refrigerators</td>\n",
       "      <td>samsung</td>\n",
       "    </tr>\n",
       "    <tr>\n",
       "      <th>28</th>\n",
       "      <td>SAMSUNG REF SBS 604L RS55K5010SL/TL SS</td>\n",
       "      <td>Refrigerators</td>\n",
       "      <td>SAMSUNG</td>\n",
       "      <td>1</td>\n",
       "      <td>72250.00000</td>\n",
       "      <td>refrigerators</td>\n",
       "      <td>samsung</td>\n",
       "    </tr>\n",
       "    <tr>\n",
       "      <th>78</th>\n",
       "      <td>SAMSUNG REF DC 192L RR20M282ZR2/NL 3S</td>\n",
       "      <td>Refrigerators</td>\n",
       "      <td>SAMSUNG</td>\n",
       "      <td>2</td>\n",
       "      <td>16500.00000</td>\n",
       "      <td>refrigerators</td>\n",
       "      <td>samsung</td>\n",
       "    </tr>\n",
       "    <tr>\n",
       "      <th>98</th>\n",
       "      <td>Croma Ref DC 225L CRAR0213- RA 2*</td>\n",
       "      <td>Refrigerators</td>\n",
       "      <td>CROMA</td>\n",
       "      <td>1</td>\n",
       "      <td>13990.00000</td>\n",
       "      <td>refrigerators</td>\n",
       "      <td>croma</td>\n",
       "    </tr>\n",
       "    <tr>\n",
       "      <th>...</th>\n",
       "      <td>...</td>\n",
       "      <td>...</td>\n",
       "      <td>...</td>\n",
       "      <td>...</td>\n",
       "      <td>...</td>\n",
       "      <td>...</td>\n",
       "      <td>...</td>\n",
       "    </tr>\n",
       "    <tr>\n",
       "      <th>1907</th>\n",
       "      <td>WHIRLPOOL REF FF 265L SP278 PRM WM 3S</td>\n",
       "      <td>Refrigerators</td>\n",
       "      <td>WHIRLPOOL</td>\n",
       "      <td>2</td>\n",
       "      <td>22100.00000</td>\n",
       "      <td>refrigerators</td>\n",
       "      <td>whirlpool</td>\n",
       "    </tr>\n",
       "    <tr>\n",
       "      <th>1926</th>\n",
       "      <td>SAMSUNG REF SBS 654L RH62K6007S8/TL</td>\n",
       "      <td>Refrigerators</td>\n",
       "      <td>SAMSUNG</td>\n",
       "      <td>3</td>\n",
       "      <td>94369.00000</td>\n",
       "      <td>refrigerators</td>\n",
       "      <td>samsung</td>\n",
       "    </tr>\n",
       "    <tr>\n",
       "      <th>1934</th>\n",
       "      <td>WHIRLPOOL REF DC 200L 215IMPWCOOLROY3S M</td>\n",
       "      <td>Refrigerators</td>\n",
       "      <td>WHIRLPOOL</td>\n",
       "      <td>13</td>\n",
       "      <td>16183.69231</td>\n",
       "      <td>refrigerators</td>\n",
       "      <td>whirlpool</td>\n",
       "    </tr>\n",
       "    <tr>\n",
       "      <th>1959</th>\n",
       "      <td>SAMSUNG REF FF 551L RT56K6378SL/TL 3S</td>\n",
       "      <td>Refrigerators</td>\n",
       "      <td>SAMSUNG</td>\n",
       "      <td>5</td>\n",
       "      <td>61370.00000</td>\n",
       "      <td>refrigerators</td>\n",
       "      <td>samsung</td>\n",
       "    </tr>\n",
       "    <tr>\n",
       "      <th>1988</th>\n",
       "      <td>Super General RefDC 47L SGRI-035HS</td>\n",
       "      <td>Refrigerators</td>\n",
       "      <td>Super General</td>\n",
       "      <td>1</td>\n",
       "      <td>7191.00000</td>\n",
       "      <td>refrigerators</td>\n",
       "      <td>super general</td>\n",
       "    </tr>\n",
       "  </tbody>\n",
       "</table>\n",
       "<p>99 rows × 7 columns</p>\n",
       "</div>"
      ],
      "text/plain": [
       "                                             sku   product_line  \\\n",
       "SKU_ID                                                            \n",
       "2            HITACHI REF SBS RM-700AGPND4X-(DIA)  Refrigerators   \n",
       "17                Samsung Ref SBS 591L RS554NRUA  Refrigerators   \n",
       "28        SAMSUNG REF SBS 604L RS55K5010SL/TL SS  Refrigerators   \n",
       "78         SAMSUNG REF DC 192L RR20M282ZR2/NL 3S  Refrigerators   \n",
       "98             Croma Ref DC 225L CRAR0213- RA 2*  Refrigerators   \n",
       "...                                          ...            ...   \n",
       "1907       WHIRLPOOL REF FF 265L SP278 PRM WM 3S  Refrigerators   \n",
       "1926         SAMSUNG REF SBS 654L RH62K6007S8/TL  Refrigerators   \n",
       "1934    WHIRLPOOL REF DC 200L 215IMPWCOOLROY3S M  Refrigerators   \n",
       "1959       SAMSUNG REF FF 551L RT56K6378SL/TL 3S  Refrigerators   \n",
       "1988          Super General RefDC 47L SGRI-035HS  Refrigerators   \n",
       "\n",
       "                brand  sales         price product_line_clean    brand_lower  \n",
       "SKU_ID                                                                        \n",
       "2             HITACHI      1  184408.00000      refrigerators        hitachi  \n",
       "17            SAMSUNG      1   79815.00000      refrigerators        samsung  \n",
       "28            SAMSUNG      1   72250.00000      refrigerators        samsung  \n",
       "78            SAMSUNG      2   16500.00000      refrigerators        samsung  \n",
       "98              CROMA      1   13990.00000      refrigerators          croma  \n",
       "...               ...    ...           ...                ...            ...  \n",
       "1907        WHIRLPOOL      2   22100.00000      refrigerators      whirlpool  \n",
       "1926          SAMSUNG      3   94369.00000      refrigerators        samsung  \n",
       "1934        WHIRLPOOL     13   16183.69231      refrigerators      whirlpool  \n",
       "1959          SAMSUNG      5   61370.00000      refrigerators        samsung  \n",
       "1988    Super General      1    7191.00000      refrigerators  super general  \n",
       "\n",
       "[99 rows x 7 columns]"
      ]
     },
     "execution_count": 238,
     "metadata": {},
     "output_type": "execute_result"
    }
   ],
   "source": [
    "temp =partial_match(temp,\"product_line_clean\",txt_set)\n",
    "temp"
   ]
  },
  {
   "cell_type": "code",
   "execution_count": 240,
   "id": "eb454827",
   "metadata": {},
   "outputs": [],
   "source": [
    "def over_lap(df,cat,txt_set):\n",
    "    \n",
    "    return df[df[cat].apply(lambda x: False if len(txt_set.difference(text_to_set(x.lower()))) > 1 else True)]"
   ]
  },
  {
   "cell_type": "code",
   "execution_count": 241,
   "id": "499d4db7",
   "metadata": {},
   "outputs": [
    {
     "data": {
      "text/html": [
       "<div>\n",
       "<style scoped>\n",
       "    .dataframe tbody tr th:only-of-type {\n",
       "        vertical-align: middle;\n",
       "    }\n",
       "\n",
       "    .dataframe tbody tr th {\n",
       "        vertical-align: top;\n",
       "    }\n",
       "\n",
       "    .dataframe thead th {\n",
       "        text-align: right;\n",
       "    }\n",
       "</style>\n",
       "<table border=\"1\" class=\"dataframe\">\n",
       "  <thead>\n",
       "    <tr style=\"text-align: right;\">\n",
       "      <th></th>\n",
       "      <th>sku</th>\n",
       "      <th>product_line</th>\n",
       "      <th>brand</th>\n",
       "      <th>sales</th>\n",
       "      <th>price</th>\n",
       "      <th>product_line_clean</th>\n",
       "      <th>brand_lower</th>\n",
       "    </tr>\n",
       "    <tr>\n",
       "      <th>SKU_ID</th>\n",
       "      <th></th>\n",
       "      <th></th>\n",
       "      <th></th>\n",
       "      <th></th>\n",
       "      <th></th>\n",
       "      <th></th>\n",
       "      <th></th>\n",
       "    </tr>\n",
       "  </thead>\n",
       "  <tbody>\n",
       "    <tr>\n",
       "      <th>2</th>\n",
       "      <td>HITACHI REF SBS RM-700AGPND4X-(DIA)</td>\n",
       "      <td>Refrigerators</td>\n",
       "      <td>HITACHI</td>\n",
       "      <td>1</td>\n",
       "      <td>184408.00000</td>\n",
       "      <td>refrigerators</td>\n",
       "      <td>hitachi</td>\n",
       "    </tr>\n",
       "    <tr>\n",
       "      <th>17</th>\n",
       "      <td>Samsung Ref SBS 591L RS554NRUA</td>\n",
       "      <td>Refrigerators</td>\n",
       "      <td>SAMSUNG</td>\n",
       "      <td>1</td>\n",
       "      <td>79815.00000</td>\n",
       "      <td>refrigerators</td>\n",
       "      <td>samsung</td>\n",
       "    </tr>\n",
       "    <tr>\n",
       "      <th>28</th>\n",
       "      <td>SAMSUNG REF SBS 604L RS55K5010SL/TL SS</td>\n",
       "      <td>Refrigerators</td>\n",
       "      <td>SAMSUNG</td>\n",
       "      <td>1</td>\n",
       "      <td>72250.00000</td>\n",
       "      <td>refrigerators</td>\n",
       "      <td>samsung</td>\n",
       "    </tr>\n",
       "    <tr>\n",
       "      <th>78</th>\n",
       "      <td>SAMSUNG REF DC 192L RR20M282ZR2/NL 3S</td>\n",
       "      <td>Refrigerators</td>\n",
       "      <td>SAMSUNG</td>\n",
       "      <td>2</td>\n",
       "      <td>16500.00000</td>\n",
       "      <td>refrigerators</td>\n",
       "      <td>samsung</td>\n",
       "    </tr>\n",
       "    <tr>\n",
       "      <th>98</th>\n",
       "      <td>Croma Ref DC 225L CRAR0213- RA 2*</td>\n",
       "      <td>Refrigerators</td>\n",
       "      <td>CROMA</td>\n",
       "      <td>1</td>\n",
       "      <td>13990.00000</td>\n",
       "      <td>refrigerators</td>\n",
       "      <td>croma</td>\n",
       "    </tr>\n",
       "    <tr>\n",
       "      <th>...</th>\n",
       "      <td>...</td>\n",
       "      <td>...</td>\n",
       "      <td>...</td>\n",
       "      <td>...</td>\n",
       "      <td>...</td>\n",
       "      <td>...</td>\n",
       "      <td>...</td>\n",
       "    </tr>\n",
       "    <tr>\n",
       "      <th>1907</th>\n",
       "      <td>WHIRLPOOL REF FF 265L SP278 PRM WM 3S</td>\n",
       "      <td>Refrigerators</td>\n",
       "      <td>WHIRLPOOL</td>\n",
       "      <td>2</td>\n",
       "      <td>22100.00000</td>\n",
       "      <td>refrigerators</td>\n",
       "      <td>whirlpool</td>\n",
       "    </tr>\n",
       "    <tr>\n",
       "      <th>1926</th>\n",
       "      <td>SAMSUNG REF SBS 654L RH62K6007S8/TL</td>\n",
       "      <td>Refrigerators</td>\n",
       "      <td>SAMSUNG</td>\n",
       "      <td>3</td>\n",
       "      <td>94369.00000</td>\n",
       "      <td>refrigerators</td>\n",
       "      <td>samsung</td>\n",
       "    </tr>\n",
       "    <tr>\n",
       "      <th>1934</th>\n",
       "      <td>WHIRLPOOL REF DC 200L 215IMPWCOOLROY3S M</td>\n",
       "      <td>Refrigerators</td>\n",
       "      <td>WHIRLPOOL</td>\n",
       "      <td>13</td>\n",
       "      <td>16183.69231</td>\n",
       "      <td>refrigerators</td>\n",
       "      <td>whirlpool</td>\n",
       "    </tr>\n",
       "    <tr>\n",
       "      <th>1959</th>\n",
       "      <td>SAMSUNG REF FF 551L RT56K6378SL/TL 3S</td>\n",
       "      <td>Refrigerators</td>\n",
       "      <td>SAMSUNG</td>\n",
       "      <td>5</td>\n",
       "      <td>61370.00000</td>\n",
       "      <td>refrigerators</td>\n",
       "      <td>samsung</td>\n",
       "    </tr>\n",
       "    <tr>\n",
       "      <th>1988</th>\n",
       "      <td>Super General RefDC 47L SGRI-035HS</td>\n",
       "      <td>Refrigerators</td>\n",
       "      <td>Super General</td>\n",
       "      <td>1</td>\n",
       "      <td>7191.00000</td>\n",
       "      <td>refrigerators</td>\n",
       "      <td>super general</td>\n",
       "    </tr>\n",
       "  </tbody>\n",
       "</table>\n",
       "<p>99 rows × 7 columns</p>\n",
       "</div>"
      ],
      "text/plain": [
       "                                             sku   product_line  \\\n",
       "SKU_ID                                                            \n",
       "2            HITACHI REF SBS RM-700AGPND4X-(DIA)  Refrigerators   \n",
       "17                Samsung Ref SBS 591L RS554NRUA  Refrigerators   \n",
       "28        SAMSUNG REF SBS 604L RS55K5010SL/TL SS  Refrigerators   \n",
       "78         SAMSUNG REF DC 192L RR20M282ZR2/NL 3S  Refrigerators   \n",
       "98             Croma Ref DC 225L CRAR0213- RA 2*  Refrigerators   \n",
       "...                                          ...            ...   \n",
       "1907       WHIRLPOOL REF FF 265L SP278 PRM WM 3S  Refrigerators   \n",
       "1926         SAMSUNG REF SBS 654L RH62K6007S8/TL  Refrigerators   \n",
       "1934    WHIRLPOOL REF DC 200L 215IMPWCOOLROY3S M  Refrigerators   \n",
       "1959       SAMSUNG REF FF 551L RT56K6378SL/TL 3S  Refrigerators   \n",
       "1988          Super General RefDC 47L SGRI-035HS  Refrigerators   \n",
       "\n",
       "                brand  sales         price product_line_clean    brand_lower  \n",
       "SKU_ID                                                                        \n",
       "2             HITACHI      1  184408.00000      refrigerators        hitachi  \n",
       "17            SAMSUNG      1   79815.00000      refrigerators        samsung  \n",
       "28            SAMSUNG      1   72250.00000      refrigerators        samsung  \n",
       "78            SAMSUNG      2   16500.00000      refrigerators        samsung  \n",
       "98              CROMA      1   13990.00000      refrigerators          croma  \n",
       "...               ...    ...           ...                ...            ...  \n",
       "1907        WHIRLPOOL      2   22100.00000      refrigerators      whirlpool  \n",
       "1926          SAMSUNG      3   94369.00000      refrigerators        samsung  \n",
       "1934        WHIRLPOOL     13   16183.69231      refrigerators      whirlpool  \n",
       "1959          SAMSUNG      5   61370.00000      refrigerators        samsung  \n",
       "1988    Super General      1    7191.00000      refrigerators  super general  \n",
       "\n",
       "[99 rows x 7 columns]"
      ]
     },
     "execution_count": 241,
     "metadata": {},
     "output_type": "execute_result"
    }
   ],
   "source": [
    "temp = over_lap(temp,\"sku\",txt_set)"
   ]
  },
  {
   "cell_type": "code",
   "execution_count": 244,
   "id": "acef38b0",
   "metadata": {},
   "outputs": [
    {
     "data": {
      "text/plain": [
       "re.Pattern"
      ]
     },
     "execution_count": 244,
     "metadata": {},
     "output_type": "execute_result"
    }
   ],
   "source": [
    "type(re.compile(\"\"))"
   ]
  },
  {
   "cell_type": "code",
   "execution_count": 250,
   "id": "5678db3b",
   "metadata": {},
   "outputs": [
    {
     "name": "stdout",
     "output_type": "stream",
     "text": [
      "True\n"
     ]
    }
   ],
   "source": [
    "if pd.DataFrame().empty:\n",
    "    print(True)"
   ]
  },
  {
   "cell_type": "code",
   "execution_count": 275,
   "id": "d665e728",
   "metadata": {},
   "outputs": [
    {
     "name": "stdout",
     "output_type": "stream",
     "text": [
      "Collecting python-Levenshtein\n",
      "  Downloading python_Levenshtein-0.20.9-py3-none-any.whl (9.4 kB)\n",
      "Collecting Levenshtein==0.20.9\n",
      "  Downloading Levenshtein-0.20.9-cp39-cp39-manylinux_2_17_x86_64.manylinux2014_x86_64.whl (175 kB)\n",
      "\u001b[2K     \u001b[38;2;114;156;31m━━━━━━━━━━━━━━━━━━━━━━━━━━━━━━━━━━━━━━━\u001b[0m \u001b[32m175.5/175.5 kB\u001b[0m \u001b[31m2.8 MB/s\u001b[0m eta \u001b[36m0:00:00\u001b[0m MB/s\u001b[0m eta \u001b[36m0:00:01\u001b[0m\n",
      "\u001b[?25hCollecting rapidfuzz<3.0.0,>=2.3.0\n",
      "  Downloading rapidfuzz-2.13.7-cp39-cp39-manylinux_2_17_x86_64.manylinux2014_x86_64.whl (2.2 MB)\n",
      "\u001b[2K     \u001b[38;2;114;156;31m━━━━━━━━━━━━━━━━━━━━━━━━━━━━━━━━━━━━━━━━\u001b[0m \u001b[32m2.2/2.2 MB\u001b[0m \u001b[31m1.9 MB/s\u001b[0m eta \u001b[36m0:00:00\u001b[0mm eta \u001b[36m0:00:01\u001b[0m[36m0:00:01\u001b[0m\n",
      "\u001b[?25hInstalling collected packages: rapidfuzz, Levenshtein, python-Levenshtein\n",
      "Successfully installed Levenshtein-0.20.9 python-Levenshtein-0.20.9 rapidfuzz-2.13.7\n",
      "Note: you may need to restart the kernel to use updated packages.\n"
     ]
    }
   ],
   "source": [
    "pip install python-Levenshtein"
   ]
  },
  {
   "cell_type": "code",
   "execution_count": 277,
   "id": "86bd4457",
   "metadata": {},
   "outputs": [],
   "source": [
    "from Levenshtein import ratio"
   ]
  },
  {
   "cell_type": "code",
   "execution_count": 282,
   "id": "911a180a",
   "metadata": {},
   "outputs": [
    {
     "ename": "SyntaxError",
     "evalue": "f-string: unmatched '(' (2018926951.py, line 2)",
     "output_type": "error",
     "traceback": [
      "\u001b[0;36m  File \u001b[0;32m\"/tmp/ipykernel_11909/2018926951.py\"\u001b[0;36m, line \u001b[0;32m2\u001b[0m\n\u001b[0;31m    print(f\"category:{cat} ration: {ratio(\"Samsung ref\",\"refigerator\")})\u001b[0m\n\u001b[0m                                           ^\u001b[0m\n\u001b[0;31mSyntaxError\u001b[0m\u001b[0;31m:\u001b[0m f-string: unmatched '('\n"
     ]
    }
   ],
   "source": [
    "for cat in df[\"product_line_clean\"].unique():\n",
    "    print(f\"category:{cat} ratio: {ratio(\"Samsung ref\",\"refigerator\")})"
   ]
  },
  {
   "cell_type": "code",
   "execution_count": null,
   "id": "ae1452cd",
   "metadata": {},
   "outputs": [],
   "source": []
  }
 ],
 "metadata": {
  "kernelspec": {
   "display_name": "Python 3 (ipykernel)",
   "language": "python",
   "name": "python3"
  },
  "language_info": {
   "codemirror_mode": {
    "name": "ipython",
    "version": 3
   },
   "file_extension": ".py",
   "mimetype": "text/x-python",
   "name": "python",
   "nbconvert_exporter": "python",
   "pygments_lexer": "ipython3",
   "version": "3.9.13"
  }
 },
 "nbformat": 4,
 "nbformat_minor": 5
}
