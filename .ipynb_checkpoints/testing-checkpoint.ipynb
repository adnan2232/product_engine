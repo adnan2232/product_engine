{
 "cells": [
  {
   "cell_type": "code",
   "execution_count": 16,
   "id": "a37e2060",
   "metadata": {},
   "outputs": [],
   "source": [
    "import pandas as pd\n",
    "import numpy as np"
   ]
  },
  {
   "cell_type": "code",
   "execution_count": 17,
   "id": "9a0a6843",
   "metadata": {},
   "outputs": [],
   "source": [
    "df = pd.read_csv(\"sales_data.csv\",index_col=0)"
   ]
  },
  {
   "cell_type": "code",
   "execution_count": 18,
   "id": "26a55f2f",
   "metadata": {},
   "outputs": [],
   "source": [
    "df[\"brand\"] = df[\"brand\"].apply(lambda x: x[:-1])"
   ]
  },
  {
   "cell_type": "code",
   "execution_count": 19,
   "id": "f2d23a3b",
   "metadata": {},
   "outputs": [
    {
     "data": {
      "text/html": [
       "<div>\n",
       "<style scoped>\n",
       "    .dataframe tbody tr th:only-of-type {\n",
       "        vertical-align: middle;\n",
       "    }\n",
       "\n",
       "    .dataframe tbody tr th {\n",
       "        vertical-align: top;\n",
       "    }\n",
       "\n",
       "    .dataframe thead th {\n",
       "        text-align: right;\n",
       "    }\n",
       "</style>\n",
       "<table border=\"1\" class=\"dataframe\">\n",
       "  <thead>\n",
       "    <tr style=\"text-align: right;\">\n",
       "      <th></th>\n",
       "      <th>sku</th>\n",
       "      <th>product_line</th>\n",
       "      <th>brand</th>\n",
       "      <th>sales</th>\n",
       "      <th>price</th>\n",
       "    </tr>\n",
       "    <tr>\n",
       "      <th>SKU_ID</th>\n",
       "      <th></th>\n",
       "      <th></th>\n",
       "      <th></th>\n",
       "      <th></th>\n",
       "      <th></th>\n",
       "    </tr>\n",
       "  </thead>\n",
       "  <tbody>\n",
       "    <tr>\n",
       "      <th>1</th>\n",
       "      <td>Samsung Stereo Headset Wird EO-EG920BWEG</td>\n",
       "      <td>Phones Mobile Accessories</td>\n",
       "      <td>SAMSUNG</td>\n",
       "      <td>1</td>\n",
       "      <td>1359.0</td>\n",
       "    </tr>\n",
       "    <tr>\n",
       "      <th>2</th>\n",
       "      <td>HITACHI REF SBS RM-700AGPND4X-(DIA)</td>\n",
       "      <td>Refrigerators</td>\n",
       "      <td>HITACHI</td>\n",
       "      <td>1</td>\n",
       "      <td>184408.0</td>\n",
       "    </tr>\n",
       "    <tr>\n",
       "      <th>3</th>\n",
       "      <td>SIEMENS DISHWASHER SN26L801IN</td>\n",
       "      <td>Dishwashers</td>\n",
       "      <td>SIEMENS</td>\n",
       "      <td>1</td>\n",
       "      <td>34425.0</td>\n",
       "    </tr>\n",
       "    <tr>\n",
       "      <th>4</th>\n",
       "      <td>Super General S/AC 1.5T SGSI185-3BE 3S</td>\n",
       "      <td>Air Conditioners</td>\n",
       "      <td>Super General</td>\n",
       "      <td>1</td>\n",
       "      <td>29750.0</td>\n",
       "    </tr>\n",
       "    <tr>\n",
       "      <th>5</th>\n",
       "      <td>Apple 12W USB Power Adapter</td>\n",
       "      <td>Tablets &amp; Detachables</td>\n",
       "      <td>APPLE</td>\n",
       "      <td>1</td>\n",
       "      <td>1700.0</td>\n",
       "    </tr>\n",
       "  </tbody>\n",
       "</table>\n",
       "</div>"
      ],
      "text/plain": [
       "                                             sku               product_line  \\\n",
       "SKU_ID                                                                        \n",
       "1       Samsung Stereo Headset Wird EO-EG920BWEG  Phones Mobile Accessories   \n",
       "2            HITACHI REF SBS RM-700AGPND4X-(DIA)              Refrigerators   \n",
       "3                  SIEMENS DISHWASHER SN26L801IN                Dishwashers   \n",
       "4         Super General S/AC 1.5T SGSI185-3BE 3S           Air Conditioners   \n",
       "5                    Apple 12W USB Power Adapter      Tablets & Detachables   \n",
       "\n",
       "                brand  sales     price  \n",
       "SKU_ID                                  \n",
       "1             SAMSUNG      1    1359.0  \n",
       "2             HITACHI      1  184408.0  \n",
       "3             SIEMENS      1   34425.0  \n",
       "4       Super General      1   29750.0  \n",
       "5               APPLE      1    1700.0  "
      ]
     },
     "execution_count": 19,
     "metadata": {},
     "output_type": "execute_result"
    }
   ],
   "source": [
    "df.head()"
   ]
  },
  {
   "cell_type": "code",
   "execution_count": 20,
   "id": "64e55f54",
   "metadata": {},
   "outputs": [
    {
     "name": "stdout",
     "output_type": "stream",
     "text": [
      "<class 'pandas.core.frame.DataFrame'>\n",
      "Int64Index: 2015 entries, 1 to 2015\n",
      "Data columns (total 5 columns):\n",
      " #   Column        Non-Null Count  Dtype  \n",
      "---  ------        --------------  -----  \n",
      " 0   sku           2015 non-null   object \n",
      " 1   product_line  2015 non-null   object \n",
      " 2   brand         2015 non-null   object \n",
      " 3   sales         2015 non-null   int64  \n",
      " 4   price         2015 non-null   float64\n",
      "dtypes: float64(1), int64(1), object(3)\n",
      "memory usage: 94.5+ KB\n"
     ]
    },
    {
     "data": {
      "text/plain": [
       "(None, (2015, 5))"
      ]
     },
     "execution_count": 20,
     "metadata": {},
     "output_type": "execute_result"
    }
   ],
   "source": [
    "df.info(), df.shape"
   ]
  },
  {
   "cell_type": "code",
   "execution_count": 21,
   "id": "f4de2acf",
   "metadata": {},
   "outputs": [],
   "source": [
    "df = df.astype({\"sku\":\"string\",\"product_line\":\"string\",\"brand\":\"string\"})"
   ]
  },
  {
   "cell_type": "code",
   "execution_count": 22,
   "id": "e5bee57a",
   "metadata": {},
   "outputs": [
    {
     "name": "stdout",
     "output_type": "stream",
     "text": [
      "<class 'pandas.core.frame.DataFrame'>\n",
      "Int64Index: 2015 entries, 1 to 2015\n",
      "Data columns (total 5 columns):\n",
      " #   Column        Non-Null Count  Dtype  \n",
      "---  ------        --------------  -----  \n",
      " 0   sku           2015 non-null   string \n",
      " 1   product_line  2015 non-null   string \n",
      " 2   brand         2015 non-null   string \n",
      " 3   sales         2015 non-null   int64  \n",
      " 4   price         2015 non-null   float64\n",
      "dtypes: float64(1), int64(1), string(3)\n",
      "memory usage: 94.5 KB\n"
     ]
    }
   ],
   "source": [
    "df.info()"
   ]
  },
  {
   "cell_type": "code",
   "execution_count": 23,
   "id": "ad4e4e97",
   "metadata": {},
   "outputs": [
    {
     "data": {
      "text/plain": [
       "<StringArray>\n",
       "[    'Phones Mobile Accessories',                 'Refrigerators',\n",
       "                   'Dishwashers',              'Air Conditioners',\n",
       "         'Tablets & Detachables',               'Gaming Software',\n",
       "              'Mobile Computing',            'Kitchen Appliances',\n",
       "                   'MP3 Players',                 'Input Devices',\n",
       "          'Earphones/Headphones',               'Home Appliances',\n",
       "              'Washing Machines',               'Water Purifiers',\n",
       "                    'Microwaves',            'Travel Accessories',\n",
       "                  'Phones Fixed',       'Smart Phones (OS Based)',\n",
       "                 'Computer Bags',                  'Shop in Shop',\n",
       "        'Health & Personal Care',                  'Home Theatre',\n",
       "                 'Phones Mobile',         'Lifestyle & Wearables',\n",
       "               'Digital Cameras',                      'Security',\n",
       "                        'TV LCD',                   'Peripherals',\n",
       "                 'Storage Media',   'Printers & Office Solutions',\n",
       "               'Gaming Hardware',           'Imaging Accessories',\n",
       "                      'Speakers',                'PC Accessories',\n",
       "       'Phones Mobile Providers',                      'Cookware',\n",
       "                          'Fans',     'Entertainment Accessories',\n",
       "                      'Desktops',               'DVD/VCD/Content',\n",
       "                          'Toys',                    'Networking',\n",
       " 'Dummy Laptop / Netbook / Tabs',  'Cooling & Heating Appliances',\n",
       "               'Ovens & Cookers',                         'Power',\n",
       "                  'Air Purifier',  'Connected Homes & Housewares',\n",
       "                 'Audio Systems',                      'Software',\n",
       "                    'Camcorders',                 'Other Charges',\n",
       "       'Phone Brand Attachments',                       'ECharge',\n",
       "                        'Dryers',                       'Simcard',\n",
       "               'MP3 Accessories']\n",
       "Length: 57, dtype: string"
      ]
     },
     "execution_count": 23,
     "metadata": {},
     "output_type": "execute_result"
    }
   ],
   "source": [
    "df[\"product_line\"].unique()"
   ]
  },
  {
   "cell_type": "code",
   "execution_count": 59,
   "id": "35466009",
   "metadata": {},
   "outputs": [
    {
     "name": "stderr",
     "output_type": "stream",
     "text": [
      "[nltk_data] Downloading package wordnet to\n",
      "[nltk_data]     C:\\Users\\adnan\\AppData\\Roaming\\nltk_data...\n",
      "[nltk_data]   Package wordnet is already up-to-date!\n"
     ]
    }
   ],
   "source": [
    "import re\n",
    "import nltk\n",
    "nltk.download('wordnet')\n",
    "from nltk.stem import WordNetLemmatizer\n",
    "\n",
    "\n",
    "lemma = WordNetLemmatizer()\n",
    "replacement = {\n",
    "    re.compile(r\"&|/\"):\" \",\n",
    "    re.compile(r\"( )+\"):\" \",\n",
    "    re.compile(r\"\\(|\\)\"):\"\",\n",
    "    re.compile(r\"(^ )|( $)\"):\"\"\n",
    "}\n",
    "\n",
    "df[\"product_line_clean\"] = df[\"product_line\"].str.lower().replace(\n",
    "    regex=replacement\n",
    "    ).apply(\n",
    "    lambda x: (\" \".join(lemma.lemmatize(word) for word in x.split(\" \")))\n",
    "    )"
   ]
  },
  {
   "cell_type": "code",
   "execution_count": 60,
   "id": "b7fed58a",
   "metadata": {},
   "outputs": [
    {
     "data": {
      "text/plain": [
       "array(['phone mobile accessory', 'refrigerator', 'dishwasher',\n",
       "       'air conditioner', 'tablet detachables', 'gaming software',\n",
       "       'mobile computing', 'kitchen appliance', 'mp3 player',\n",
       "       'input device', 'earphone headphone', 'home appliance',\n",
       "       'washing machine', 'water purifier', 'microwave',\n",
       "       'travel accessory', 'phone fixed', 'smart phone o based',\n",
       "       'computer bag', 'shop in shop', 'health personal care',\n",
       "       'home theatre', 'phone mobile', 'lifestyle wearable',\n",
       "       'digital camera', 'security', 'tv lcd', 'peripheral',\n",
       "       'storage medium', 'printer office solution', 'gaming hardware',\n",
       "       'imaging accessory', 'speaker', 'pc accessory',\n",
       "       'phone mobile provider', 'cookware', 'fan',\n",
       "       'entertainment accessory', 'desktop', 'dvd vcd content', 'toy',\n",
       "       'networking', 'dummy laptop netbook tab',\n",
       "       'cooling heating appliance', 'oven cooker', 'power',\n",
       "       'air purifier', 'connected home housewares', 'audio system',\n",
       "       'software', 'camcorder', 'other charge', 'phone brand attachment',\n",
       "       'echarge', 'dryer', 'simcard', 'mp3 accessory'], dtype=object)"
      ]
     },
     "execution_count": 60,
     "metadata": {},
     "output_type": "execute_result"
    }
   ],
   "source": [
    "categories = df[\"product_line_clean\"].unique()\n",
    "categories"
   ]
  },
  {
   "cell_type": "code",
   "execution_count": 26,
   "id": "553aa392",
   "metadata": {},
   "outputs": [
    {
     "name": "stdout",
     "output_type": "stream",
     "text": [
      "['Super General', 'Ultimate Ears', 'TRAVEL BLUE', 'Cyber Power', 'ALTEC LANSING', 'EDU SCIENCE', 'BOOK MY SHOW', 'NO SPEC', 'GO PRO', 'FUSE CHICKEN', 'AQUA SURE']\n"
     ]
    }
   ],
   "source": [
    "df[\"brand_lower\"] = df[\"brand\"].str.lower()\n",
    "\n",
    "brand_names = df[\"brand_lower\"].unique()\n"
   ]
  },
  {
   "cell_type": "code",
   "execution_count": 28,
   "id": "d3b76e3a",
   "metadata": {},
   "outputs": [],
   "source": [
    "def text_to_set(txt,replace=set()):\n",
    "    if not replace:\n",
    "        replace = replacement\n",
    "    for key,val in replace.items():\n",
    "        txt = re.sub(key,val,txt)\n",
    "        \n",
    "    return set(txt.lower().split(\" \"))"
   ]
  },
  {
   "cell_type": "code",
   "execution_count": 29,
   "id": "cefbf57d",
   "metadata": {},
   "outputs": [],
   "source": [
    "replacement = {\n",
    "        re.compile(r\"&|/|\\\\\"):\" \",\n",
    "        re.compile(r\"( )+\"):\" \",\n",
    "        re.compile(r\"\\(|\\)|(^ )|( $)\"):\"\",\n",
    "    }"
   ]
  },
  {
   "cell_type": "code",
   "execution_count": null,
   "id": "a7567d58",
   "metadata": {},
   "outputs": [],
   "source": [
    "def over_lap(df,cat,txt_set):\n",
    "    \n",
    "    return df[df[cat].apply(lambda x: False if len(txt_set.difference(text_to_set(x.lower()))) > 1 else True)]"
   ]
  },
  {
   "cell_type": "code",
   "execution_count": null,
   "id": "2c717e16",
   "metadata": {},
   "outputs": [],
   "source": [
    "temp = over_lap(temp,\"sku\",txt_set)\n",
    "temp"
   ]
  },
  {
   "cell_type": "code",
   "execution_count": 140,
   "id": "0beedf90",
   "metadata": {},
   "outputs": [],
   "source": [
    "from Levenshtein import ratio,distance\n",
    "\n",
    "def max_win_score(cats,txt_ls):\n",
    "    txt_n = len(txt_ls)\n",
    "    cat_scores = {cat:0 for cat in cats}\n",
    "    for cat in cats:\n",
    "        cat_ls = cat.split(\" \")\n",
    "        n = len(cat_ls)\n",
    "\n",
    "        for i in range(txt_n):\n",
    "            temp = \" \".join(txt_ls[i:i+n])\n",
    "            cat_scores[cat] = max(cat_scores[cat],ratio(cat.lower(),temp.lower()))\n",
    "            \n",
    "    print(max(cat_scores.items(),key= lambda x:x[1]))\n",
    "    return max(cat_scores.items(),key= lambda x:x[1])\n",
    "            \n",
    "\n",
    "def exact_match(df,cat,txt):\n",
    "    txt_ls = txt.lower().split(\" \")\n",
    "    ind = df[cat].isin(txt_ls)\n",
    "    \n",
    "    if ind.any():\n",
    "        return df[ind]\n",
    "    \n",
    "    tp = max_win_score(df[cat].unique(),txt_ls)\n",
    "    \n",
    "    return df.loc[df[cat]==tp[0]] if tp[1]>=0.5 else df"
   ]
  },
  {
   "cell_type": "code",
   "execution_count": 151,
   "id": "710cc9e4",
   "metadata": {},
   "outputs": [
    {
     "name": "stdout",
     "output_type": "stream",
     "text": [
      "('samsung', 0.9333333333333333)\n"
     ]
    }
   ],
   "source": [
    "res = exact_match(df,\"brand_lower\",\"samsungs Galaxy J7 mobile phone\")"
   ]
  },
  {
   "cell_type": "code",
   "execution_count": 152,
   "id": "a81b4e6b",
   "metadata": {},
   "outputs": [
    {
     "data": {
      "text/html": [
       "<div>\n",
       "<style scoped>\n",
       "    .dataframe tbody tr th:only-of-type {\n",
       "        vertical-align: middle;\n",
       "    }\n",
       "\n",
       "    .dataframe tbody tr th {\n",
       "        vertical-align: top;\n",
       "    }\n",
       "\n",
       "    .dataframe thead th {\n",
       "        text-align: right;\n",
       "    }\n",
       "</style>\n",
       "<table border=\"1\" class=\"dataframe\">\n",
       "  <thead>\n",
       "    <tr style=\"text-align: right;\">\n",
       "      <th></th>\n",
       "      <th>sku</th>\n",
       "      <th>product_line</th>\n",
       "      <th>brand</th>\n",
       "      <th>sales</th>\n",
       "      <th>price</th>\n",
       "      <th>product_line_clean</th>\n",
       "      <th>brand_lower</th>\n",
       "    </tr>\n",
       "    <tr>\n",
       "      <th>SKU_ID</th>\n",
       "      <th></th>\n",
       "      <th></th>\n",
       "      <th></th>\n",
       "      <th></th>\n",
       "      <th></th>\n",
       "      <th></th>\n",
       "      <th></th>\n",
       "    </tr>\n",
       "  </thead>\n",
       "  <tbody>\n",
       "    <tr>\n",
       "      <th>1</th>\n",
       "      <td>Samsung Stereo Headset Wird EO-EG920BWEG</td>\n",
       "      <td>Phones Mobile Accessories</td>\n",
       "      <td>SAMSUNG</td>\n",
       "      <td>1</td>\n",
       "      <td>1359.0</td>\n",
       "      <td>phone mobile accessory</td>\n",
       "      <td>samsung</td>\n",
       "    </tr>\n",
       "    <tr>\n",
       "      <th>17</th>\n",
       "      <td>Samsung Ref SBS 591L RS554NRUA</td>\n",
       "      <td>Refrigerators</td>\n",
       "      <td>SAMSUNG</td>\n",
       "      <td>1</td>\n",
       "      <td>79815.0</td>\n",
       "      <td>refrigerator</td>\n",
       "      <td>samsung</td>\n",
       "    </tr>\n",
       "    <tr>\n",
       "      <th>20</th>\n",
       "      <td>Samsung Wash/Dry 8/6K-WD80J6410</td>\n",
       "      <td>Washing Machines</td>\n",
       "      <td>SAMSUNG</td>\n",
       "      <td>6</td>\n",
       "      <td>54485.0</td>\n",
       "      <td>washing machine</td>\n",
       "      <td>samsung</td>\n",
       "    </tr>\n",
       "    <tr>\n",
       "      <th>27</th>\n",
       "      <td>SAMSUNG W/M TL 6KG WA60M4300HD/TL SLV</td>\n",
       "      <td>Washing Machines</td>\n",
       "      <td>SAMSUNG</td>\n",
       "      <td>15</td>\n",
       "      <td>14990.0</td>\n",
       "      <td>washing machine</td>\n",
       "      <td>samsung</td>\n",
       "    </tr>\n",
       "    <tr>\n",
       "      <th>28</th>\n",
       "      <td>SAMSUNG REF SBS 604L RS55K5010SL/TL SS</td>\n",
       "      <td>Refrigerators</td>\n",
       "      <td>SAMSUNG</td>\n",
       "      <td>1</td>\n",
       "      <td>72250.0</td>\n",
       "      <td>refrigerator</td>\n",
       "      <td>samsung</td>\n",
       "    </tr>\n",
       "    <tr>\n",
       "      <th>...</th>\n",
       "      <td>...</td>\n",
       "      <td>...</td>\n",
       "      <td>...</td>\n",
       "      <td>...</td>\n",
       "      <td>...</td>\n",
       "      <td>...</td>\n",
       "      <td>...</td>\n",
       "    </tr>\n",
       "    <tr>\n",
       "      <th>1959</th>\n",
       "      <td>SAMSUNG REF FF 551L RT56K6378SL/TL 3S</td>\n",
       "      <td>Refrigerators</td>\n",
       "      <td>SAMSUNG</td>\n",
       "      <td>5</td>\n",
       "      <td>61370.0</td>\n",
       "      <td>refrigerator</td>\n",
       "      <td>samsung</td>\n",
       "    </tr>\n",
       "    <tr>\n",
       "      <th>1983</th>\n",
       "      <td>Samsung A520F Black 2017</td>\n",
       "      <td>Smart Phones (OS Based)</td>\n",
       "      <td>SAMSUNG</td>\n",
       "      <td>6</td>\n",
       "      <td>26900.0</td>\n",
       "      <td>smart phone o based</td>\n",
       "      <td>samsung</td>\n",
       "    </tr>\n",
       "    <tr>\n",
       "      <th>1991</th>\n",
       "      <td>Samsung LED 140cm 55K5570</td>\n",
       "      <td>TV LCD</td>\n",
       "      <td>SAMSUNG</td>\n",
       "      <td>1</td>\n",
       "      <td>84700.0</td>\n",
       "      <td>tv lcd</td>\n",
       "      <td>samsung</td>\n",
       "    </tr>\n",
       "    <tr>\n",
       "      <th>2002</th>\n",
       "      <td>Samsung Galaxy S7 Edge 32GB Gold</td>\n",
       "      <td>Smart Phones (OS Based)</td>\n",
       "      <td>SAMSUNG</td>\n",
       "      <td>2</td>\n",
       "      <td>42900.0</td>\n",
       "      <td>smart phone o based</td>\n",
       "      <td>samsung</td>\n",
       "    </tr>\n",
       "    <tr>\n",
       "      <th>2012</th>\n",
       "      <td>SAMSUNG LED 124cm 49M6300</td>\n",
       "      <td>TV LCD</td>\n",
       "      <td>SAMSUNG</td>\n",
       "      <td>1</td>\n",
       "      <td>73015.0</td>\n",
       "      <td>tv lcd</td>\n",
       "      <td>samsung</td>\n",
       "    </tr>\n",
       "  </tbody>\n",
       "</table>\n",
       "<p>158 rows × 7 columns</p>\n",
       "</div>"
      ],
      "text/plain": [
       "                                             sku               product_line  \\\n",
       "SKU_ID                                                                        \n",
       "1       Samsung Stereo Headset Wird EO-EG920BWEG  Phones Mobile Accessories   \n",
       "17                Samsung Ref SBS 591L RS554NRUA              Refrigerators   \n",
       "20               Samsung Wash/Dry 8/6K-WD80J6410           Washing Machines   \n",
       "27         SAMSUNG W/M TL 6KG WA60M4300HD/TL SLV           Washing Machines   \n",
       "28        SAMSUNG REF SBS 604L RS55K5010SL/TL SS              Refrigerators   \n",
       "...                                          ...                        ...   \n",
       "1959       SAMSUNG REF FF 551L RT56K6378SL/TL 3S              Refrigerators   \n",
       "1983                    Samsung A520F Black 2017    Smart Phones (OS Based)   \n",
       "1991                   Samsung LED 140cm 55K5570                     TV LCD   \n",
       "2002            Samsung Galaxy S7 Edge 32GB Gold    Smart Phones (OS Based)   \n",
       "2012                   SAMSUNG LED 124cm 49M6300                     TV LCD   \n",
       "\n",
       "          brand  sales    price      product_line_clean brand_lower  \n",
       "SKU_ID                                                               \n",
       "1       SAMSUNG      1   1359.0  phone mobile accessory     samsung  \n",
       "17      SAMSUNG      1  79815.0            refrigerator     samsung  \n",
       "20      SAMSUNG      6  54485.0         washing machine     samsung  \n",
       "27      SAMSUNG     15  14990.0         washing machine     samsung  \n",
       "28      SAMSUNG      1  72250.0            refrigerator     samsung  \n",
       "...         ...    ...      ...                     ...         ...  \n",
       "1959    SAMSUNG      5  61370.0            refrigerator     samsung  \n",
       "1983    SAMSUNG      6  26900.0     smart phone o based     samsung  \n",
       "1991    SAMSUNG      1  84700.0                  tv lcd     samsung  \n",
       "2002    SAMSUNG      2  42900.0     smart phone o based     samsung  \n",
       "2012    SAMSUNG      1  73015.0                  tv lcd     samsung  \n",
       "\n",
       "[158 rows x 7 columns]"
      ]
     },
     "execution_count": 152,
     "metadata": {},
     "output_type": "execute_result"
    }
   ],
   "source": [
    "res"
   ]
  },
  {
   "cell_type": "code",
   "execution_count": null,
   "id": "8d75f2d6",
   "metadata": {},
   "outputs": [],
   "source": []
  }
 ],
 "metadata": {
  "kernelspec": {
   "display_name": "Python 3 (ipykernel)",
   "language": "python",
   "name": "python3"
  },
  "language_info": {
   "codemirror_mode": {
    "name": "ipython",
    "version": 3
   },
   "file_extension": ".py",
   "mimetype": "text/x-python",
   "name": "python",
   "nbconvert_exporter": "python",
   "pygments_lexer": "ipython3",
   "version": "3.8.8"
  }
 },
 "nbformat": 4,
 "nbformat_minor": 5
}
